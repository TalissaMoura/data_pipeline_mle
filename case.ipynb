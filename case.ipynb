{
  "cells": [
    {
      "attachments": {},
      "cell_type": "markdown",
      "metadata": {
        "id": "i-dY94-Wfkrd"
      },
      "source": [
        "# Case - Machine Learning Engineering"
      ]
    },
    {
      "attachments": {},
      "cell_type": "markdown",
      "metadata": {
        "id": "5KcJ0bGUf6BY"
      },
      "source": [
        "\n",
        "**O Problema**\n",
        "\n",
        "O **Minhas Finanças** é um produto no PicPay para organizar e comparar os gastos financeiros dos nossos usuários. Desta forma, o time de MLOPS do PicPay tem o objetivo de disponibilizar uma base de dados tratada para ser analisada pelos Cientistas de dados.\n",
        "\n",
        "O **objetivo** desse exercício é realizar o tratamento de dados para analise das das transações que foram categorizadas.\n",
        "\n",
        "De forma objetiva, o seu output final deve ser uma tabela conforme a imagem abaixo.\n",
        "\n",
        "\n",
        "![DataFrame Esperado](resultado_esperado.png)\n",
        "\n",
        "\n",
        "**Importante!**\n",
        "  - Você deverá disponibilizar o código em um repositório no GitHub.\n",
        "  - Recomendamos o uso de Pandas ou PySpark para tratamento dos dados.\n",
        "\n",
        "**Ambiente de desenvolvimento**\n",
        "  - Recomendamos o uso do Google Colab ou do Jupyter Notebook Localmente.\n",
        "\n",
        "**Onde estão os dados?**\n",
        " - Dentro da pasta dataset existem dois arquivos `.csv` com os seguintes nomes: `bank_dim` e `transations`.\n",
        "  \n",
        "\n",
        "**Schema dos dados de entrada**\n",
        "\n",
        "- **`transactions`:**\n",
        "  - **transaction_id**: Chave de identificação da transação\n",
        "  - **user_id**: Chave de identificação do usuário no sistema.\n",
        "  - **transaction_name_raw**: Nome da transação em seu formato original\n",
        "  - **transaction_name_treated**: Nome da transação com tratamento aplicado\n",
        "  - **transaction_amount**: Valor da transação\n",
        "  - **bank_id**: Chave de Identificação do banco de origem.\n",
        "  - **year**: Ano da transação\n",
        "  - **month**: Mês da transação\n",
        "  - **day**: Dia da transação\n",
        "\n",
        "- **`bank_dim`**\n",
        "  - **bank_name**: Nome do banco.\n",
        "  - **bank_id**: Identificador do banco.\n"
      ]
    },
    {
      "attachments": {},
      "cell_type": "markdown",
      "metadata": {},
      "source": [
        "# Passos para montar a tabela \n",
        "\n",
        "1. Leitura dos dados brutos\n",
        "2. Verificação de valores nulos \n",
        "3. Tratamento de strings: \n",
        "   - Remover os espaços do inicio e final das palavras (método do trim)\n",
        "   - Deixar as letras das variáveis minusculas `transaction_name_raw` e `transaction_name_treated`.\n",
        "   - Substituir os valores de `,` para `.` da variável `transaction_amount`.\n",
        "   - Concatenar as informações de `year`e `month`.\n",
        "   - Recolher as informações de `bank_name` através do join de `transaction.csv` com `bank_dim.csv`.\n",
        "\n",
        "4. Mudando dtypes das variáveis:\n",
        "    - BIGINT: `transaction_id`\n",
        "    - INT: `user_id`\n",
        "    - NUMERIC(20,14): `transaction_amount`\n",
        "    - DATE: `year_month`\n",
        "    - STRINGS: `transaction_name_raw` e `transaction_name_treated`.\n",
        "\n",
        "\n",
        "5. Montar a tabela\n",
        "   - Agrupar os dados de `user_id`, `bank_name` e `yaer_month`.\n",
        "   - Pivotar a tabela com a coluna `transaction_name_treated`.\n",
        "   - Somar os valores dos dados da coluna `transaction_amount`.\n"
      ]
    },
    {
      "attachments": {},
      "cell_type": "markdown",
      "metadata": {
        "id": "6h8ANBIcNaid"
      },
      "source": [
        "## 1 - Reading data"
      ]
    },
    {
      "cell_type": "code",
      "execution_count": 1,
      "metadata": {},
      "outputs": [
        {
          "name": "stderr",
          "output_type": "stream",
          "text": [
            "23/07/31 11:10:55 WARN Utils: Your hostname, pop-os resolves to a loopback address: 127.0.1.1; using 192.168.47.27 instead (on interface wlp3s0)\n",
            "23/07/31 11:10:55 WARN Utils: Set SPARK_LOCAL_IP if you need to bind to another address\n",
            "Setting default log level to \"WARN\".\n",
            "To adjust logging level use sc.setLogLevel(newLevel). For SparkR, use setLogLevel(newLevel).\n",
            "23/07/31 11:10:58 WARN NativeCodeLoader: Unable to load native-hadoop library for your platform... using builtin-java classes where applicable\n"
          ]
        }
      ],
      "source": [
        "from pyspark.sql import SparkSession\n",
        "\n",
        "spark = SparkSession.builder.getOrCreate()"
      ]
    },
    {
      "cell_type": "code",
      "execution_count": 2,
      "metadata": {},
      "outputs": [
        {
          "name": "stderr",
          "output_type": "stream",
          "text": [
            "                                                                                \r"
          ]
        }
      ],
      "source": [
        "df_transactions_raw = spark.read \\\n",
        "                .csv('./dataset/raw/transactions.csv', header=True)\n",
        "df_bank = spark.read \\\n",
        "               .csv('./dataset/raw/bank_dim.csv',header=True)"
      ]
    },
    {
      "cell_type": "code",
      "execution_count": 3,
      "metadata": {},
      "outputs": [
        {
          "name": "stdout",
          "output_type": "stream",
          "text": [
            "num of samples:  209\n",
            "num of samples:  3\n"
          ]
        }
      ],
      "source": [
        "print('num of samples: ',df_transactions_raw.count())\n",
        "print('num of samples: ', df_bank.count())"
      ]
    },
    {
      "cell_type": "code",
      "execution_count": 4,
      "metadata": {},
      "outputs": [
        {
          "name": "stdout",
          "output_type": "stream",
          "text": [
            "root\n",
            " |-- transaction_id: string (nullable = true)\n",
            " |-- user_id: string (nullable = true)\n",
            " |-- transaction_name_raw: string (nullable = true)\n",
            " |-- transaction_name_treated: string (nullable = true)\n",
            " |-- transaction_amount: string (nullable = true)\n",
            " |-- year: string (nullable = true)\n",
            " |-- month: string (nullable = true)\n",
            " |-- day: string (nullable = true)\n",
            " |-- bank_id: string (nullable = true)\n",
            "\n"
          ]
        }
      ],
      "source": [
        "df_transactions_raw.printSchema()"
      ]
    },
    {
      "cell_type": "code",
      "execution_count": 5,
      "metadata": {},
      "outputs": [
        {
          "name": "stdout",
          "output_type": "stream",
          "text": [
            "root\n",
            " |-- bank_name: string (nullable = true)\n",
            " |-- bank_id: string (nullable = true)\n",
            "\n"
          ]
        }
      ],
      "source": [
        "df_bank.printSchema()"
      ]
    },
    {
      "cell_type": "code",
      "execution_count": 6,
      "metadata": {},
      "outputs": [
        {
          "name": "stdout",
          "output_type": "stream",
          "text": [
            "+--------------+-------+--------------------+------------------------+------------------+----+-----+---+-------+\n",
            "|transaction_id|user_id|transaction_name_raw|transaction_name_treated|transaction_amount|year|month|day|bank_id|\n",
            "+--------------+-------+--------------------+------------------------+------------------+----+-----+---+-------+\n",
            "|    1098589746|   1006| MERCADOLIVRE*HADASH|                 MERCADO|              -450|2022|   12| 12|   7002|\n",
            "|     923448688|   1005|MERCADOLIVRE*JURE...|                 MERCADO|               -52|2022|   12| 12|   6001|\n",
            "|     535521958|   1006|MERCADOPAGO*MERCE...|                 MERCADO|             -14,5|2022|   10| 24|   7002|\n",
            "|     550852764|   1005|Uber   *UBER   *TRIP|                    UBER|            -33,55|2022|   12| 12|   6001|\n",
            "|    1187027961|   1005|DEB MAESTRO - DRO...|                DROGARIA|            -29,99|2022|   12| 12|   6001|\n",
            "|     446972585|   1005|COMPRA C/CARTAO 1...|                    uber|            -12,31|2022|   12| 12|   6001|\n",
            "|     547350439|   1005|Uber   *UBER   *TRIP|                    UBER|            -27,91|2022|   12| 12|   6001|\n",
            "|     860249607|   1006|PAY  -UBER *TRIP ...|                    UBER|            -16,98|2022|   12| 12|   7002|\n",
            "|     120345848|   1005|Uber   *UBER   *TRIP|                    UBER|            -14,99|2022|   12| 12|   6001|\n",
            "|      40549599|   1006|DOC: 55438 - uber...|                    UBER|            -19,94|2022|   12| 12|   7002|\n",
            "|     785716712|   1005|Uber   *UBER   *TRIP|                    UBER|            -14,95|2022|   12| 12|   6001|\n",
            "|     543048474|   1005|Uber   *UBER   *TRIP|                    UBER|             -5,97|2022|   12| 12|   6001|\n",
            "|     745842287|   1005|    Uber *UBER *TRIP|                    uber|             -9,99|2022|   12| 12|   6001|\n",
            "|     705098824|   1006|          UBER *TRIP|                    uber|            -24,95|2022|   12| 12|   7002|\n",
            "|     681985543|   1006|    Uber *UBER *TRIP|                    uber|            -19,94|2022|   12| 12|   7002|\n",
            "|     201567547|   1005|Uber   *UBER   *TRIP|                    uber|             -8,92|2022|   12| 12|   6001|\n",
            "|     148256843|   1006|Uber   *UBER   *TRIP|                    uber|             -8,91|2022|   12| 12|   7002|\n",
            "|     783325554|   1006|MERCADO SAO MIGUE...|                 MERCADO|            -89,19|2022|    9| 27|   7002|\n",
            "|     755888821|   1006|    Uber *UBER *TRIP|                    UBER|             -20,1|2022|   12| 12|   7002|\n",
            "|       7066299|   1006|Uber   *UBER   *TRIP|                    UBER|            -11,96|2022|   12| 12|   7002|\n",
            "+--------------+-------+--------------------+------------------------+------------------+----+-----+---+-------+\n",
            "only showing top 20 rows\n",
            "\n"
          ]
        }
      ],
      "source": [
        "df_transactions_raw.show()"
      ]
    },
    {
      "cell_type": "code",
      "execution_count": 7,
      "metadata": {},
      "outputs": [],
      "source": [
        "df_transactions_raw.createOrReplaceTempView('df_transactions_raw')"
      ]
    },
    {
      "cell_type": "code",
      "execution_count": 8,
      "metadata": {},
      "outputs": [
        {
          "name": "stdout",
          "output_type": "stream",
          "text": [
            "+---------+-------+\n",
            "|bank_name|bank_id|\n",
            "+---------+-------+\n",
            "|   Nubank|   6001|\n",
            "| Bradesco|   7002|\n",
            "|Santander|   5003|\n",
            "+---------+-------+\n",
            "\n"
          ]
        }
      ],
      "source": [
        "df_bank.show()"
      ]
    },
    {
      "cell_type": "code",
      "execution_count": 9,
      "metadata": {},
      "outputs": [],
      "source": [
        "df_bank.createOrReplaceTempView('df_bank')"
      ]
    },
    {
      "attachments": {},
      "cell_type": "markdown",
      "metadata": {},
      "source": [
        "## 2 - Checking for null values"
      ]
    },
    {
      "cell_type": "code",
      "execution_count": 10,
      "metadata": {},
      "outputs": [
        {
          "data": {
            "text/plain": [
              "0"
            ]
          },
          "execution_count": 10,
          "metadata": {},
          "output_type": "execute_result"
        }
      ],
      "source": [
        "df_transactions_raw.filter('''user_id is NULL \n",
        "                 or transaction_id is NULL\n",
        "                 or bank_id is NULL\n",
        "                 or transaction_name_raw is NULL\n",
        "                 or transaction_name_treated is NULL\n",
        "                 or transaction_amount is NULL \n",
        "                 or year is NULL\n",
        "                 or month is NULL \n",
        "                 or day is NULL''')\\\n",
        "                .count()"
      ]
    },
    {
      "attachments": {},
      "cell_type": "markdown",
      "metadata": {},
      "source": [
        "## 3 - Treating strings"
      ]
    },
    {
      "cell_type": "code",
      "execution_count": 11,
      "metadata": {},
      "outputs": [],
      "source": [
        "df_transactions_clean = spark.sql('''\n",
        "     SELECT \n",
        "        trim(BOTH from transaction_id) as transaction_id,\n",
        "        trim(BOTH from user_id) as user_id,\n",
        "        trim(BOTH from df_bank.bank_name) as bank_name,\n",
        "        lower(trim(BOTH from transaction_name_raw)) as transaction_name_raw,\n",
        "        lower(trim(BOTH from transaction_name_treated)) as transaction_name_treated,\n",
        "        regexp_replace(trim(BOTH from transaction_amount),r\"[,]\",\".\") as transaction_amount,\n",
        "        trim(BOTH from year) || '-' || trim(BOTH from month) as year_month\n",
        "     FROM df_transactions_raw\n",
        "     JOIN df_bank\n",
        "     ON df_bank.bank_id=df_transactions_raw.bank_id\n",
        "''')"
      ]
    },
    {
      "cell_type": "code",
      "execution_count": 12,
      "metadata": {},
      "outputs": [],
      "source": [
        "df_transactions_clean.createOrReplaceTempView('df_transactions_clean')"
      ]
    },
    {
      "cell_type": "code",
      "execution_count": 13,
      "metadata": {},
      "outputs": [
        {
          "name": "stdout",
          "output_type": "stream",
          "text": [
            "+--------------+-------+---------+--------------------+------------------------+------------------+----------+\n",
            "|transaction_id|user_id|bank_name|transaction_name_raw|transaction_name_treated|transaction_amount|year_month|\n",
            "+--------------+-------+---------+--------------------+------------------------+------------------+----------+\n",
            "|    1098589746|   1006| Bradesco| mercadolivre*hadash|                 mercado|              -450|   2022-12|\n",
            "|     923448688|   1005|   Nubank|mercadolivre*jure...|                 mercado|               -52|   2022-12|\n",
            "|     535521958|   1006| Bradesco|mercadopago*merce...|                 mercado|             -14.5|   2022-10|\n",
            "|     550852764|   1005|   Nubank|uber   *uber   *trip|                    uber|            -33.55|   2022-12|\n",
            "|    1187027961|   1005|   Nubank|deb maestro - dro...|                drogaria|            -29.99|   2022-12|\n",
            "|     446972585|   1005|   Nubank|compra c/cartao 1...|                    uber|            -12.31|   2022-12|\n",
            "|     547350439|   1005|   Nubank|uber   *uber   *trip|                    uber|            -27.91|   2022-12|\n",
            "|     860249607|   1006| Bradesco|pay  -uber *trip ...|                    uber|            -16.98|   2022-12|\n",
            "|     120345848|   1005|   Nubank|uber   *uber   *trip|                    uber|            -14.99|   2022-12|\n",
            "|      40549599|   1006| Bradesco|doc: 55438 - uber...|                    uber|            -19.94|   2022-12|\n",
            "|     785716712|   1005|   Nubank|uber   *uber   *trip|                    uber|            -14.95|   2022-12|\n",
            "|     543048474|   1005|   Nubank|uber   *uber   *trip|                    uber|             -5.97|   2022-12|\n",
            "|     745842287|   1005|   Nubank|    uber *uber *trip|                    uber|             -9.99|   2022-12|\n",
            "|     705098824|   1006| Bradesco|          uber *trip|                    uber|            -24.95|   2022-12|\n",
            "|     681985543|   1006| Bradesco|    uber *uber *trip|                    uber|            -19.94|   2022-12|\n",
            "|     201567547|   1005|   Nubank|uber   *uber   *trip|                    uber|             -8.92|   2022-12|\n",
            "|     148256843|   1006| Bradesco|uber   *uber   *trip|                    uber|             -8.91|   2022-12|\n",
            "|     783325554|   1006| Bradesco|mercado sao migue...|                 mercado|            -89.19|    2022-9|\n",
            "|     755888821|   1006| Bradesco|    uber *uber *trip|                    uber|             -20.1|   2022-12|\n",
            "|       7066299|   1006| Bradesco|uber   *uber   *trip|                    uber|            -11.96|   2022-12|\n",
            "+--------------+-------+---------+--------------------+------------------------+------------------+----------+\n",
            "only showing top 20 rows\n",
            "\n"
          ]
        }
      ],
      "source": [
        "df_transactions_clean.show()"
      ]
    },
    {
      "attachments": {},
      "cell_type": "markdown",
      "metadata": {},
      "source": [
        "## 4 - Check for cardinality for strings"
      ]
    },
    {
      "cell_type": "code",
      "execution_count": 14,
      "metadata": {},
      "outputs": [
        {
          "name": "stdout",
          "output_type": "stream",
          "text": [
            "+------------------------+\n",
            "|transaction_name_treated|\n",
            "+------------------------+\n",
            "|                drogaria|\n",
            "|                 spotify|\n",
            "|                 netflix|\n",
            "|                   ifood|\n",
            "|                   luiza|\n",
            "|              auto posto|\n",
            "|                farmacia|\n",
            "|                    uber|\n",
            "|                  subway|\n",
            "|                   posto|\n",
            "|                 mercado|\n",
            "+------------------------+\n",
            "\n"
          ]
        }
      ],
      "source": [
        "spark.sql('''SELECT DISTINCT transaction_name_treated FROM df_transactions_clean''').show()"
      ]
    },
    {
      "attachments": {},
      "cell_type": "markdown",
      "metadata": {},
      "source": [
        "## 5 - Change dtypes"
      ]
    },
    {
      "cell_type": "code",
      "execution_count": 15,
      "metadata": {},
      "outputs": [],
      "source": [
        "df_transactions_treated = spark.sql('''\n",
        "     SELECT \n",
        "        CAST(transaction_id as BIGINT) as transaction_id,\n",
        "        CAST(user_id as INT) as user_id,\n",
        "        bank_name,\n",
        "        transaction_name_raw,\n",
        "        transaction_name_treated,\n",
        "        CAST(transaction_amount as NUMERIC(20,14)) as transaction_amount,\n",
        "        DATE_FORMAT(CAST(year_month as DATE),'y-M') as year_month\n",
        "     FROM df_transactions_clean\n",
        "''')"
      ]
    },
    {
      "cell_type": "code",
      "execution_count": 16,
      "metadata": {},
      "outputs": [],
      "source": [
        "df_transactions_treated.createOrReplaceTempView('df_transactions_treated')"
      ]
    },
    {
      "cell_type": "code",
      "execution_count": 17,
      "metadata": {},
      "outputs": [
        {
          "name": "stdout",
          "output_type": "stream",
          "text": [
            "+--------------+-------+---------+--------------------+------------------------+-------------------+----------+\n",
            "|transaction_id|user_id|bank_name|transaction_name_raw|transaction_name_treated| transaction_amount|year_month|\n",
            "+--------------+-------+---------+--------------------+------------------------+-------------------+----------+\n",
            "|    1098589746|   1006| Bradesco| mercadolivre*hadash|                 mercado|-450.00000000000000|   2022-12|\n",
            "|     923448688|   1005|   Nubank|mercadolivre*jure...|                 mercado| -52.00000000000000|   2022-12|\n",
            "|     535521958|   1006| Bradesco|mercadopago*merce...|                 mercado| -14.50000000000000|   2022-10|\n",
            "|     550852764|   1005|   Nubank|uber   *uber   *trip|                    uber| -33.55000000000000|   2022-12|\n",
            "|    1187027961|   1005|   Nubank|deb maestro - dro...|                drogaria| -29.99000000000000|   2022-12|\n",
            "|     446972585|   1005|   Nubank|compra c/cartao 1...|                    uber| -12.31000000000000|   2022-12|\n",
            "|     547350439|   1005|   Nubank|uber   *uber   *trip|                    uber| -27.91000000000000|   2022-12|\n",
            "|     860249607|   1006| Bradesco|pay  -uber *trip ...|                    uber| -16.98000000000000|   2022-12|\n",
            "|     120345848|   1005|   Nubank|uber   *uber   *trip|                    uber| -14.99000000000000|   2022-12|\n",
            "|      40549599|   1006| Bradesco|doc: 55438 - uber...|                    uber| -19.94000000000000|   2022-12|\n",
            "|     785716712|   1005|   Nubank|uber   *uber   *trip|                    uber| -14.95000000000000|   2022-12|\n",
            "|     543048474|   1005|   Nubank|uber   *uber   *trip|                    uber|  -5.97000000000000|   2022-12|\n",
            "|     745842287|   1005|   Nubank|    uber *uber *trip|                    uber|  -9.99000000000000|   2022-12|\n",
            "|     705098824|   1006| Bradesco|          uber *trip|                    uber| -24.95000000000000|   2022-12|\n",
            "|     681985543|   1006| Bradesco|    uber *uber *trip|                    uber| -19.94000000000000|   2022-12|\n",
            "|     201567547|   1005|   Nubank|uber   *uber   *trip|                    uber|  -8.92000000000000|   2022-12|\n",
            "|     148256843|   1006| Bradesco|uber   *uber   *trip|                    uber|  -8.91000000000000|   2022-12|\n",
            "|     783325554|   1006| Bradesco|mercado sao migue...|                 mercado| -89.19000000000000|    2022-9|\n",
            "|     755888821|   1006| Bradesco|    uber *uber *trip|                    uber| -20.10000000000000|   2022-12|\n",
            "|       7066299|   1006| Bradesco|uber   *uber   *trip|                    uber| -11.96000000000000|   2022-12|\n",
            "+--------------+-------+---------+--------------------+------------------------+-------------------+----------+\n",
            "only showing top 20 rows\n",
            "\n"
          ]
        }
      ],
      "source": [
        "df_transactions_treated.show()"
      ]
    },
    {
      "attachments": {},
      "cell_type": "markdown",
      "metadata": {},
      "source": [
        "## 6 - Grouping info about transactions"
      ]
    },
    {
      "cell_type": "code",
      "execution_count": 18,
      "metadata": {},
      "outputs": [],
      "source": [
        "from pyspark.sql.column import cast\n",
        "\n",
        "df_transactions_final=df_transactions_treated.groupBy(['user_id','year_month','bank_name'])\\\n",
        "                             .pivot('transaction_name_treated') \\\n",
        "                             .sum('transaction_amount')"
      ]
    },
    {
      "cell_type": "code",
      "execution_count": 19,
      "metadata": {},
      "outputs": [
        {
          "name": "stdout",
          "output_type": "stream",
          "text": [
            "+-------+----------+---------+-------------------+-------------------+-------------------+-------------------+-------------------+--------------------+-------------------+-------------------+------------------+-------------------+-------------------+\n",
            "|user_id|year_month|bank_name|         auto posto|           drogaria|           farmacia|              ifood|              luiza|             mercado|            netflix|              posto|           spotify|             subway|               uber|\n",
            "+-------+----------+---------+-------------------+-------------------+-------------------+-------------------+-------------------+--------------------+-------------------+-------------------+------------------+-------------------+-------------------+\n",
            "|   1006|   2022-10| Bradesco|               null|               null|               null| -73.00000000000000|               null|-1165.89000000000000|               null|               null|              null|               null|               null|\n",
            "|   1005|   2022-10|   Nubank|-100.00000000000000|               null|               null|-113.16000000000000|               null| -923.02000000000000|               null|               null|              null|-113.50000000000000|               null|\n",
            "|   1006|    2022-8| Bradesco|               null| -23.49000000000000| -27.85000000000000|               null| -18.00000000000000|  -12.00000000000000|               null|               null|-34.90000000000000|               null| -13.99000000000000|\n",
            "|   1006|   2022-12| Bradesco|               null|               null|               null|               null|               null| -480.02000000000000|               null|               null|              null|               null|-188.56000000000000|\n",
            "|   1005|    2022-8|   Nubank|               null|-253.63000000000000|-309.80000000000000|               null|               null|                null|               null| -20.55000000000000|-24.90000000000000|               null|               null|\n",
            "|   1005|   2022-11|   Nubank|-356.60000000000000|               null|               null| -97.17000000000000|               null|  -33.00000000000000|               null| -65.00000000000000|              null|               null| -23.33000000000000|\n",
            "|   1006|    2022-9| Bradesco|               null|               null|               null|               null|               null| -856.21000000000000| -55.90000000000000|               null| -9.90000000000000|               null| -19.93000000000000|\n",
            "|   1006|    2022-6| Bradesco| -30.00000000000000|               null|               null|               null|               null| -102.82000000000000|               null| -23.00000000000000|              null|               null| -19.03000000000000|\n",
            "|   1005|    2022-6|   Nubank| -13.99000000000000|  -4.49000000000000|               null| -56.00000000000000|-290.92000000000000| -276.94000000000000|               null| -40.00000000000000| -9.90000000000000|               null| -12.59000000000000|\n",
            "|   1005|    2022-9|   Nubank|               null|               null|               null|               null|               null| -778.32000000000000|-105.70000000000000|               null|-19.90000000000000|               null|               null|\n",
            "|   1005|   2022-12|   Nubank|               null| -29.99000000000000|               null|               null|               null|  -52.00000000000000|               null|               null|              null|               null|-210.00000000000000|\n",
            "|   1006|   2022-11| Bradesco|-631.02000000000000|               null|               null|-332.92000000000000|               null|                null|               null|-406.34000000000000|              null|               null| -63.55000000000000|\n",
            "|   1005|    2022-7|   Nubank|               null|               null|               null|               null|               null|  -94.43000000000000|               null| -90.00000000000000|              null|               null| -78.49000000000000|\n",
            "|   1006|    2022-7| Bradesco|               null|               null|               null|  -6.05000000000000|               null| -311.81000000000000|               null|               null|              null|               null| -59.55000000000000|\n",
            "+-------+----------+---------+-------------------+-------------------+-------------------+-------------------+-------------------+--------------------+-------------------+-------------------+------------------+-------------------+-------------------+\n",
            "\n"
          ]
        }
      ],
      "source": [
        "df_transactions_final.show()"
      ]
    },
    {
      "cell_type": "code",
      "execution_count": 20,
      "metadata": {},
      "outputs": [],
      "source": [
        "df_transactions_final.createOrReplaceTempView('user_transactions_by_name')"
      ]
    },
    {
      "cell_type": "code",
      "execution_count": 21,
      "metadata": {},
      "outputs": [
        {
          "data": {
            "text/plain": [
              "(14, 14)"
            ]
          },
          "execution_count": 21,
          "metadata": {},
          "output_type": "execute_result"
        }
      ],
      "source": [
        "final_df = df_transactions_final.toPandas()\n",
        "final_df.shape"
      ]
    },
    {
      "attachments": {},
      "cell_type": "markdown",
      "metadata": {},
      "source": [
        "# 7 - Saving dataset"
      ]
    },
    {
      "cell_type": "code",
      "execution_count": 22,
      "metadata": {},
      "outputs": [],
      "source": [
        "final_df.to_csv('./dataset/processed/user_transactions_by_name.csv',index=False)"
      ]
    },
    {
      "cell_type": "code",
      "execution_count": null,
      "metadata": {},
      "outputs": [],
      "source": []
    },
    {
      "cell_type": "code",
      "execution_count": null,
      "metadata": {},
      "outputs": [],
      "source": []
    },
    {
      "cell_type": "code",
      "execution_count": null,
      "metadata": {},
      "outputs": [],
      "source": []
    },
    {
      "cell_type": "code",
      "execution_count": null,
      "metadata": {},
      "outputs": [],
      "source": []
    },
    {
      "cell_type": "code",
      "execution_count": null,
      "metadata": {},
      "outputs": [],
      "source": []
    },
    {
      "cell_type": "code",
      "execution_count": null,
      "metadata": {},
      "outputs": [],
      "source": []
    },
    {
      "cell_type": "code",
      "execution_count": null,
      "metadata": {},
      "outputs": [],
      "source": []
    },
    {
      "cell_type": "code",
      "execution_count": null,
      "metadata": {},
      "outputs": [],
      "source": []
    },
    {
      "cell_type": "code",
      "execution_count": null,
      "metadata": {},
      "outputs": [],
      "source": []
    },
    {
      "cell_type": "code",
      "execution_count": null,
      "metadata": {},
      "outputs": [],
      "source": []
    },
    {
      "cell_type": "code",
      "execution_count": null,
      "metadata": {},
      "outputs": [],
      "source": []
    },
    {
      "cell_type": "code",
      "execution_count": null,
      "metadata": {},
      "outputs": [],
      "source": []
    },
    {
      "cell_type": "code",
      "execution_count": null,
      "metadata": {},
      "outputs": [],
      "source": []
    },
    {
      "cell_type": "code",
      "execution_count": null,
      "metadata": {},
      "outputs": [],
      "source": []
    },
    {
      "cell_type": "code",
      "execution_count": null,
      "metadata": {},
      "outputs": [],
      "source": []
    },
    {
      "cell_type": "code",
      "execution_count": null,
      "metadata": {},
      "outputs": [],
      "source": []
    },
    {
      "cell_type": "code",
      "execution_count": null,
      "metadata": {},
      "outputs": [],
      "source": []
    },
    {
      "cell_type": "code",
      "execution_count": null,
      "metadata": {},
      "outputs": [],
      "source": []
    },
    {
      "cell_type": "code",
      "execution_count": null,
      "metadata": {},
      "outputs": [],
      "source": []
    },
    {
      "cell_type": "code",
      "execution_count": null,
      "metadata": {},
      "outputs": [],
      "source": []
    },
    {
      "cell_type": "code",
      "execution_count": null,
      "metadata": {},
      "outputs": [],
      "source": []
    },
    {
      "cell_type": "code",
      "execution_count": null,
      "metadata": {},
      "outputs": [],
      "source": []
    },
    {
      "cell_type": "code",
      "execution_count": null,
      "metadata": {},
      "outputs": [],
      "source": []
    },
    {
      "cell_type": "code",
      "execution_count": null,
      "metadata": {},
      "outputs": [],
      "source": []
    }
  ],
  "metadata": {
    "colab": {
      "provenance": []
    },
    "kernelspec": {
      "display_name": "Python 3",
      "name": "python3"
    },
    "language_info": {
      "codemirror_mode": {
        "name": "ipython",
        "version": 3
      },
      "file_extension": ".py",
      "mimetype": "text/x-python",
      "name": "python",
      "nbconvert_exporter": "python",
      "pygments_lexer": "ipython3",
      "version": "3.10.6"
    }
  },
  "nbformat": 4,
  "nbformat_minor": 0
}
